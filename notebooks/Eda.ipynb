{
 "cells": [
  {
   "cell_type": "code",
   "execution_count": 19,
   "metadata": {},
   "outputs": [],
   "source": [
    "import pandas as pd\n",
    "import numpy as np\n",
    "from scipy.special import expit\n",
    "import seaborn as sns\n",
    "from matplotlib import pyplot as plt\n",
    "from matplotlib import style"
   ]
  },
  {
   "cell_type": "code",
   "execution_count": 20,
   "metadata": {},
   "outputs": [],
   "source": [
    "import sys\n",
    "sys.path.append('../scripts/')\n",
    "\n",
    "from data_cleaner import DataCleaner\n",
    "from util import Util"
   ]
  },
  {
   "cell_type": "code",
   "execution_count": 23,
   "metadata": {},
   "outputs": [],
   "source": [
    "util = Util()\n",
    "cleaner = DataCleaner()"
   ]
  },
  {
   "cell_type": "code",
   "execution_count": 24,
   "metadata": {},
   "outputs": [],
   "source": [
    "repo = 'https://github.com/kebishaa/Delivery_drivers_location_optimisation-_with_Causal_Inference-'\n",
    "trip_data_tag = '1usMS7obAXRC6MBpn-wEbQPLlRXYb2mIT'\n",
    "trip = util.load_from_dvc(\"data/nb.csv\",repo,trip_data_tag,low_memory=False)"
   ]
  },
  {
   "cell_type": "code",
   "execution_count": 25,
   "metadata": {},
   "outputs": [],
   "source": [
    "repo = 'https://github.com/kebishaa/Delivery_drivers_location_optimisation-_with_Causal_Inference-'\n",
    "order_data_tag = '1usMS7obAXRC6MBpn-wEbQPLlRXYb2mIT'\n",
    "order = util.load_from_dvc(\"data/driver_locations_during_request.csv\",repo,order_data_tag,low_memory=False)"
   ]
  },
  {
   "cell_type": "code",
   "execution_count": 26,
   "metadata": {},
   "outputs": [
    {
     "data": {
      "text/plain": [
       "Trip ID                0\n",
       "Trip Origin            0\n",
       "Trip Destination       0\n",
       "Trip Start Time     1651\n",
       "Trip End Time          1\n",
       "dtype: int64"
      ]
     },
     "execution_count": 26,
     "metadata": {},
     "output_type": "execute_result"
    }
   ],
   "source": [
    "trip_miss_info = trip.isna().sum()\n",
    "trip_miss_info"
   ]
  },
  {
   "cell_type": "code",
   "execution_count": 27,
   "metadata": {},
   "outputs": [
    {
     "data": {
      "text/plain": [
       "id                     0\n",
       "order_id               0\n",
       "driver_id              0\n",
       "driver_action          0\n",
       "lat                    0\n",
       "lng                    0\n",
       "created_at       1557740\n",
       "updated_at       1557740\n",
       "dtype: int64"
      ]
     },
     "execution_count": 27,
     "metadata": {},
     "output_type": "execute_result"
    }
   ],
   "source": [
    "order_miss_info = order.isna().sum()\n",
    "order_miss_info"
   ]
  },
  {
   "cell_type": "markdown",
   "metadata": {},
   "source": [
    "Table Merge"
   ]
  },
  {
   "cell_type": "code",
   "execution_count": 28,
   "metadata": {},
   "outputs": [
    {
     "data": {
      "text/html": [
       "<div>\n",
       "<style scoped>\n",
       "    .dataframe tbody tr th:only-of-type {\n",
       "        vertical-align: middle;\n",
       "    }\n",
       "\n",
       "    .dataframe tbody tr th {\n",
       "        vertical-align: top;\n",
       "    }\n",
       "\n",
       "    .dataframe thead th {\n",
       "        text-align: right;\n",
       "    }\n",
       "</style>\n",
       "<table border=\"1\" class=\"dataframe\">\n",
       "  <thead>\n",
       "    <tr style=\"text-align: right;\">\n",
       "      <th></th>\n",
       "      <th>id</th>\n",
       "      <th>order_id</th>\n",
       "      <th>driver_id</th>\n",
       "      <th>driver_action</th>\n",
       "      <th>lat</th>\n",
       "      <th>lng</th>\n",
       "      <th>created_at</th>\n",
       "      <th>updated_at</th>\n",
       "      <th>Trip ID</th>\n",
       "      <th>Trip Origin</th>\n",
       "      <th>Trip Destination</th>\n",
       "      <th>Trip Start Time</th>\n",
       "      <th>Trip End Time</th>\n",
       "    </tr>\n",
       "  </thead>\n",
       "  <tbody>\n",
       "    <tr>\n",
       "      <th>0</th>\n",
       "      <td>1</td>\n",
       "      <td>392001</td>\n",
       "      <td>243828</td>\n",
       "      <td>accepted</td>\n",
       "      <td>6.602207</td>\n",
       "      <td>3.270465</td>\n",
       "      <td>NaN</td>\n",
       "      <td>NaN</td>\n",
       "      <td>392001</td>\n",
       "      <td>6.6010417,3.2766339</td>\n",
       "      <td>6.4501069,3.3916154</td>\n",
       "      <td>2021-07-01 09:30:59</td>\n",
       "      <td>2021-07-01 09:34:36</td>\n",
       "    </tr>\n",
       "    <tr>\n",
       "      <th>1</th>\n",
       "      <td>2</td>\n",
       "      <td>392001</td>\n",
       "      <td>243588</td>\n",
       "      <td>rejected</td>\n",
       "      <td>6.592097</td>\n",
       "      <td>3.287445</td>\n",
       "      <td>NaN</td>\n",
       "      <td>NaN</td>\n",
       "      <td>392001</td>\n",
       "      <td>6.6010417,3.2766339</td>\n",
       "      <td>6.4501069,3.3916154</td>\n",
       "      <td>2021-07-01 09:30:59</td>\n",
       "      <td>2021-07-01 09:34:36</td>\n",
       "    </tr>\n",
       "    <tr>\n",
       "      <th>2</th>\n",
       "      <td>3</td>\n",
       "      <td>392001</td>\n",
       "      <td>243830</td>\n",
       "      <td>rejected</td>\n",
       "      <td>6.596133</td>\n",
       "      <td>3.281784</td>\n",
       "      <td>NaN</td>\n",
       "      <td>NaN</td>\n",
       "      <td>392001</td>\n",
       "      <td>6.6010417,3.2766339</td>\n",
       "      <td>6.4501069,3.3916154</td>\n",
       "      <td>2021-07-01 09:30:59</td>\n",
       "      <td>2021-07-01 09:34:36</td>\n",
       "    </tr>\n",
       "    <tr>\n",
       "      <th>3</th>\n",
       "      <td>4</td>\n",
       "      <td>392001</td>\n",
       "      <td>243539</td>\n",
       "      <td>rejected</td>\n",
       "      <td>6.596142</td>\n",
       "      <td>3.280526</td>\n",
       "      <td>NaN</td>\n",
       "      <td>NaN</td>\n",
       "      <td>392001</td>\n",
       "      <td>6.6010417,3.2766339</td>\n",
       "      <td>6.4501069,3.3916154</td>\n",
       "      <td>2021-07-01 09:30:59</td>\n",
       "      <td>2021-07-01 09:34:36</td>\n",
       "    </tr>\n",
       "    <tr>\n",
       "      <th>4</th>\n",
       "      <td>5</td>\n",
       "      <td>392001</td>\n",
       "      <td>171653</td>\n",
       "      <td>rejected</td>\n",
       "      <td>6.609232</td>\n",
       "      <td>3.288800</td>\n",
       "      <td>NaN</td>\n",
       "      <td>NaN</td>\n",
       "      <td>392001</td>\n",
       "      <td>6.6010417,3.2766339</td>\n",
       "      <td>6.4501069,3.3916154</td>\n",
       "      <td>2021-07-01 09:30:59</td>\n",
       "      <td>2021-07-01 09:34:36</td>\n",
       "    </tr>\n",
       "  </tbody>\n",
       "</table>\n",
       "</div>"
      ],
      "text/plain": [
       "   id  order_id  driver_id driver_action       lat       lng  created_at  \\\n",
       "0   1    392001     243828      accepted  6.602207  3.270465         NaN   \n",
       "1   2    392001     243588      rejected  6.592097  3.287445         NaN   \n",
       "2   3    392001     243830      rejected  6.596133  3.281784         NaN   \n",
       "3   4    392001     243539      rejected  6.596142  3.280526         NaN   \n",
       "4   5    392001     171653      rejected  6.609232  3.288800         NaN   \n",
       "\n",
       "   updated_at  Trip ID          Trip Origin     Trip Destination  \\\n",
       "0         NaN   392001  6.6010417,3.2766339  6.4501069,3.3916154   \n",
       "1         NaN   392001  6.6010417,3.2766339  6.4501069,3.3916154   \n",
       "2         NaN   392001  6.6010417,3.2766339  6.4501069,3.3916154   \n",
       "3         NaN   392001  6.6010417,3.2766339  6.4501069,3.3916154   \n",
       "4         NaN   392001  6.6010417,3.2766339  6.4501069,3.3916154   \n",
       "\n",
       "       Trip Start Time        Trip End Time  \n",
       "0  2021-07-01 09:30:59  2021-07-01 09:34:36  \n",
       "1  2021-07-01 09:30:59  2021-07-01 09:34:36  \n",
       "2  2021-07-01 09:30:59  2021-07-01 09:34:36  \n",
       "3  2021-07-01 09:30:59  2021-07-01 09:34:36  \n",
       "4  2021-07-01 09:30:59  2021-07-01 09:34:36  "
      ]
     },
     "execution_count": 28,
     "metadata": {},
     "output_type": "execute_result"
    }
   ],
   "source": [
    "df = order.merge(trip, how='inner', left_on='order_id', right_on='Trip ID')\n",
    "df.head()"
   ]
  },
  {
   "cell_type": "code",
   "execution_count": 30,
   "metadata": {},
   "outputs": [
    {
     "data": {
      "text/plain": [
       "id                        0\n",
       "order_id                  0\n",
       "driver_id                 0\n",
       "driver_action             0\n",
       "lat                       0\n",
       "lng                       0\n",
       "created_at          1557740\n",
       "updated_at          1557740\n",
       "Trip ID                   0\n",
       "Trip Origin               0\n",
       "Trip Destination          0\n",
       "Trip Start Time        2022\n",
       "Trip End Time             0\n",
       "dtype: int64"
      ]
     },
     "execution_count": 30,
     "metadata": {},
     "output_type": "execute_result"
    }
   ],
   "source": [
    "df.isna().sum()"
   ]
  },
  {
   "cell_type": "code",
   "execution_count": 31,
   "metadata": {},
   "outputs": [
    {
     "name": "stdout",
     "output_type": "stream",
     "text": [
      "<class 'pandas.core.frame.DataFrame'>\n",
      "Int64Index: 1557740 entries, 0 to 1557739\n",
      "Data columns (total 11 columns):\n",
      " #   Column            Non-Null Count    Dtype  \n",
      "---  ------            --------------    -----  \n",
      " 0   id                1557740 non-null  int64  \n",
      " 1   order_id          1557740 non-null  int64  \n",
      " 2   driver_id         1557740 non-null  int64  \n",
      " 3   driver_action     1557740 non-null  object \n",
      " 4   lat               1557740 non-null  float64\n",
      " 5   lng               1557740 non-null  float64\n",
      " 6   Trip ID           1557740 non-null  int64  \n",
      " 7   Trip Origin       1557740 non-null  object \n",
      " 8   Trip Destination  1557740 non-null  object \n",
      " 9   Trip Start Time   1555718 non-null  object \n",
      " 10  Trip End Time     1557740 non-null  object \n",
      "dtypes: float64(2), int64(4), object(5)\n",
      "memory usage: 142.6+ MB\n"
     ]
    }
   ],
   "source": [
    "# Cleaning the created_at and updated_at columns since they don't have any valuable information\n",
    "cleaned_df = cleaner.drop_columns(df, ['updated_at','created_at'])\n",
    "cleaned_df.info()"
   ]
  },
  {
   "cell_type": "markdown",
   "metadata": {},
   "source": [
    "Calculating the distance between drivers and Trip Origin"
   ]
  },
  {
   "cell_type": "code",
   "execution_count": 40,
   "metadata": {},
   "outputs": [],
   "source": [
    "from geopy.distance import geodesic\n",
    "sample = df.copy()\n",
    "sample[[\"Trip_Origin_x\", \"Trip_Origin_y\"]] = sample[\"Trip Origin\"].str.strip(r\"[()]\").str.split(\",\", expand=True).astype(float)"
   ]
  },
  {
   "cell_type": "code",
   "execution_count": 41,
   "metadata": {},
   "outputs": [
    {
     "data": {
      "text/html": [
       "<div>\n",
       "<style scoped>\n",
       "    .dataframe tbody tr th:only-of-type {\n",
       "        vertical-align: middle;\n",
       "    }\n",
       "\n",
       "    .dataframe tbody tr th {\n",
       "        vertical-align: top;\n",
       "    }\n",
       "\n",
       "    .dataframe thead th {\n",
       "        text-align: right;\n",
       "    }\n",
       "</style>\n",
       "<table border=\"1\" class=\"dataframe\">\n",
       "  <thead>\n",
       "    <tr style=\"text-align: right;\">\n",
       "      <th></th>\n",
       "      <th>id</th>\n",
       "      <th>order_id</th>\n",
       "      <th>driver_id</th>\n",
       "      <th>driver_action</th>\n",
       "      <th>lat</th>\n",
       "      <th>lng</th>\n",
       "      <th>created_at</th>\n",
       "      <th>updated_at</th>\n",
       "      <th>Trip ID</th>\n",
       "      <th>Trip Origin</th>\n",
       "      <th>Trip Destination</th>\n",
       "      <th>Trip Start Time</th>\n",
       "      <th>Trip End Time</th>\n",
       "      <th>Trip_Origin_x</th>\n",
       "      <th>Trip_Origin_y</th>\n",
       "    </tr>\n",
       "  </thead>\n",
       "  <tbody>\n",
       "    <tr>\n",
       "      <th>0</th>\n",
       "      <td>1</td>\n",
       "      <td>392001</td>\n",
       "      <td>243828</td>\n",
       "      <td>accepted</td>\n",
       "      <td>6.602207</td>\n",
       "      <td>3.270465</td>\n",
       "      <td>NaN</td>\n",
       "      <td>NaN</td>\n",
       "      <td>392001</td>\n",
       "      <td>6.6010417,3.2766339</td>\n",
       "      <td>6.4501069,3.3916154</td>\n",
       "      <td>2021-07-01 09:30:59</td>\n",
       "      <td>2021-07-01 09:34:36</td>\n",
       "      <td>6.601042</td>\n",
       "      <td>3.276634</td>\n",
       "    </tr>\n",
       "    <tr>\n",
       "      <th>1</th>\n",
       "      <td>2</td>\n",
       "      <td>392001</td>\n",
       "      <td>243588</td>\n",
       "      <td>rejected</td>\n",
       "      <td>6.592097</td>\n",
       "      <td>3.287445</td>\n",
       "      <td>NaN</td>\n",
       "      <td>NaN</td>\n",
       "      <td>392001</td>\n",
       "      <td>6.6010417,3.2766339</td>\n",
       "      <td>6.4501069,3.3916154</td>\n",
       "      <td>2021-07-01 09:30:59</td>\n",
       "      <td>2021-07-01 09:34:36</td>\n",
       "      <td>6.601042</td>\n",
       "      <td>3.276634</td>\n",
       "    </tr>\n",
       "    <tr>\n",
       "      <th>2</th>\n",
       "      <td>3</td>\n",
       "      <td>392001</td>\n",
       "      <td>243830</td>\n",
       "      <td>rejected</td>\n",
       "      <td>6.596133</td>\n",
       "      <td>3.281784</td>\n",
       "      <td>NaN</td>\n",
       "      <td>NaN</td>\n",
       "      <td>392001</td>\n",
       "      <td>6.6010417,3.2766339</td>\n",
       "      <td>6.4501069,3.3916154</td>\n",
       "      <td>2021-07-01 09:30:59</td>\n",
       "      <td>2021-07-01 09:34:36</td>\n",
       "      <td>6.601042</td>\n",
       "      <td>3.276634</td>\n",
       "    </tr>\n",
       "    <tr>\n",
       "      <th>3</th>\n",
       "      <td>4</td>\n",
       "      <td>392001</td>\n",
       "      <td>243539</td>\n",
       "      <td>rejected</td>\n",
       "      <td>6.596142</td>\n",
       "      <td>3.280526</td>\n",
       "      <td>NaN</td>\n",
       "      <td>NaN</td>\n",
       "      <td>392001</td>\n",
       "      <td>6.6010417,3.2766339</td>\n",
       "      <td>6.4501069,3.3916154</td>\n",
       "      <td>2021-07-01 09:30:59</td>\n",
       "      <td>2021-07-01 09:34:36</td>\n",
       "      <td>6.601042</td>\n",
       "      <td>3.276634</td>\n",
       "    </tr>\n",
       "    <tr>\n",
       "      <th>4</th>\n",
       "      <td>5</td>\n",
       "      <td>392001</td>\n",
       "      <td>171653</td>\n",
       "      <td>rejected</td>\n",
       "      <td>6.609232</td>\n",
       "      <td>3.288800</td>\n",
       "      <td>NaN</td>\n",
       "      <td>NaN</td>\n",
       "      <td>392001</td>\n",
       "      <td>6.6010417,3.2766339</td>\n",
       "      <td>6.4501069,3.3916154</td>\n",
       "      <td>2021-07-01 09:30:59</td>\n",
       "      <td>2021-07-01 09:34:36</td>\n",
       "      <td>6.601042</td>\n",
       "      <td>3.276634</td>\n",
       "    </tr>\n",
       "  </tbody>\n",
       "</table>\n",
       "</div>"
      ],
      "text/plain": [
       "   id  order_id  driver_id driver_action       lat       lng  created_at  \\\n",
       "0   1    392001     243828      accepted  6.602207  3.270465         NaN   \n",
       "1   2    392001     243588      rejected  6.592097  3.287445         NaN   \n",
       "2   3    392001     243830      rejected  6.596133  3.281784         NaN   \n",
       "3   4    392001     243539      rejected  6.596142  3.280526         NaN   \n",
       "4   5    392001     171653      rejected  6.609232  3.288800         NaN   \n",
       "\n",
       "   updated_at  Trip ID          Trip Origin     Trip Destination  \\\n",
       "0         NaN   392001  6.6010417,3.2766339  6.4501069,3.3916154   \n",
       "1         NaN   392001  6.6010417,3.2766339  6.4501069,3.3916154   \n",
       "2         NaN   392001  6.6010417,3.2766339  6.4501069,3.3916154   \n",
       "3         NaN   392001  6.6010417,3.2766339  6.4501069,3.3916154   \n",
       "4         NaN   392001  6.6010417,3.2766339  6.4501069,3.3916154   \n",
       "\n",
       "       Trip Start Time        Trip End Time  Trip_Origin_x  Trip_Origin_y  \n",
       "0  2021-07-01 09:30:59  2021-07-01 09:34:36       6.601042       3.276634  \n",
       "1  2021-07-01 09:30:59  2021-07-01 09:34:36       6.601042       3.276634  \n",
       "2  2021-07-01 09:30:59  2021-07-01 09:34:36       6.601042       3.276634  \n",
       "3  2021-07-01 09:30:59  2021-07-01 09:34:36       6.601042       3.276634  \n",
       "4  2021-07-01 09:30:59  2021-07-01 09:34:36       6.601042       3.276634  "
      ]
     },
     "execution_count": 41,
     "metadata": {},
     "output_type": "execute_result"
    }
   ],
   "source": [
    "sample.head()"
   ]
  },
  {
   "cell_type": "code",
   "execution_count": 42,
   "metadata": {},
   "outputs": [],
   "source": [
    "sample['driver_proximity'] = sample.apply(\n",
    "    (lambda row: geodesic(\n",
    "        (row['lat'], row['lng']),\n",
    "        (row['Trip_Origin_x'], row['Trip_Origin_y'])\n",
    "    ).miles),\n",
    "    axis=1\n",
    ")"
   ]
  },
  {
   "cell_type": "code",
   "execution_count": 43,
   "metadata": {},
   "outputs": [
    {
     "data": {
      "text/html": [
       "<div>\n",
       "<style scoped>\n",
       "    .dataframe tbody tr th:only-of-type {\n",
       "        vertical-align: middle;\n",
       "    }\n",
       "\n",
       "    .dataframe tbody tr th {\n",
       "        vertical-align: top;\n",
       "    }\n",
       "\n",
       "    .dataframe thead th {\n",
       "        text-align: right;\n",
       "    }\n",
       "</style>\n",
       "<table border=\"1\" class=\"dataframe\">\n",
       "  <thead>\n",
       "    <tr style=\"text-align: right;\">\n",
       "      <th></th>\n",
       "      <th>id</th>\n",
       "      <th>order_id</th>\n",
       "      <th>driver_id</th>\n",
       "      <th>driver_action</th>\n",
       "      <th>lat</th>\n",
       "      <th>lng</th>\n",
       "      <th>created_at</th>\n",
       "      <th>updated_at</th>\n",
       "      <th>Trip ID</th>\n",
       "      <th>Trip Origin</th>\n",
       "      <th>Trip Destination</th>\n",
       "      <th>Trip Start Time</th>\n",
       "      <th>Trip End Time</th>\n",
       "      <th>Trip_Origin_x</th>\n",
       "      <th>Trip_Origin_y</th>\n",
       "      <th>driver_proximity</th>\n",
       "    </tr>\n",
       "  </thead>\n",
       "  <tbody>\n",
       "    <tr>\n",
       "      <th>0</th>\n",
       "      <td>1</td>\n",
       "      <td>392001</td>\n",
       "      <td>243828</td>\n",
       "      <td>accepted</td>\n",
       "      <td>6.602207</td>\n",
       "      <td>3.270465</td>\n",
       "      <td>NaN</td>\n",
       "      <td>NaN</td>\n",
       "      <td>392001</td>\n",
       "      <td>6.6010417,3.2766339</td>\n",
       "      <td>6.4501069,3.3916154</td>\n",
       "      <td>2021-07-01 09:30:59</td>\n",
       "      <td>2021-07-01 09:34:36</td>\n",
       "      <td>6.601042</td>\n",
       "      <td>3.276634</td>\n",
       "      <td>0.431395</td>\n",
       "    </tr>\n",
       "    <tr>\n",
       "      <th>1</th>\n",
       "      <td>2</td>\n",
       "      <td>392001</td>\n",
       "      <td>243588</td>\n",
       "      <td>rejected</td>\n",
       "      <td>6.592097</td>\n",
       "      <td>3.287445</td>\n",
       "      <td>NaN</td>\n",
       "      <td>NaN</td>\n",
       "      <td>392001</td>\n",
       "      <td>6.6010417,3.2766339</td>\n",
       "      <td>6.4501069,3.3916154</td>\n",
       "      <td>2021-07-01 09:30:59</td>\n",
       "      <td>2021-07-01 09:34:36</td>\n",
       "      <td>6.601042</td>\n",
       "      <td>3.276634</td>\n",
       "      <td>0.964178</td>\n",
       "    </tr>\n",
       "    <tr>\n",
       "      <th>2</th>\n",
       "      <td>3</td>\n",
       "      <td>392001</td>\n",
       "      <td>243830</td>\n",
       "      <td>rejected</td>\n",
       "      <td>6.596133</td>\n",
       "      <td>3.281784</td>\n",
       "      <td>NaN</td>\n",
       "      <td>NaN</td>\n",
       "      <td>392001</td>\n",
       "      <td>6.6010417,3.2766339</td>\n",
       "      <td>6.4501069,3.3916154</td>\n",
       "      <td>2021-07-01 09:30:59</td>\n",
       "      <td>2021-07-01 09:34:36</td>\n",
       "      <td>6.601042</td>\n",
       "      <td>3.276634</td>\n",
       "      <td>0.488880</td>\n",
       "    </tr>\n",
       "    <tr>\n",
       "      <th>3</th>\n",
       "      <td>4</td>\n",
       "      <td>392001</td>\n",
       "      <td>243539</td>\n",
       "      <td>rejected</td>\n",
       "      <td>6.596142</td>\n",
       "      <td>3.280526</td>\n",
       "      <td>NaN</td>\n",
       "      <td>NaN</td>\n",
       "      <td>392001</td>\n",
       "      <td>6.6010417,3.2766339</td>\n",
       "      <td>6.4501069,3.3916154</td>\n",
       "      <td>2021-07-01 09:30:59</td>\n",
       "      <td>2021-07-01 09:34:36</td>\n",
       "      <td>6.601042</td>\n",
       "      <td>3.276634</td>\n",
       "      <td>0.430022</td>\n",
       "    </tr>\n",
       "    <tr>\n",
       "      <th>4</th>\n",
       "      <td>5</td>\n",
       "      <td>392001</td>\n",
       "      <td>171653</td>\n",
       "      <td>rejected</td>\n",
       "      <td>6.609232</td>\n",
       "      <td>3.288800</td>\n",
       "      <td>NaN</td>\n",
       "      <td>NaN</td>\n",
       "      <td>392001</td>\n",
       "      <td>6.6010417,3.2766339</td>\n",
       "      <td>6.4501069,3.3916154</td>\n",
       "      <td>2021-07-01 09:30:59</td>\n",
       "      <td>2021-07-01 09:34:36</td>\n",
       "      <td>6.601042</td>\n",
       "      <td>3.276634</td>\n",
       "      <td>1.007770</td>\n",
       "    </tr>\n",
       "  </tbody>\n",
       "</table>\n",
       "</div>"
      ],
      "text/plain": [
       "   id  order_id  driver_id driver_action       lat       lng  created_at  \\\n",
       "0   1    392001     243828      accepted  6.602207  3.270465         NaN   \n",
       "1   2    392001     243588      rejected  6.592097  3.287445         NaN   \n",
       "2   3    392001     243830      rejected  6.596133  3.281784         NaN   \n",
       "3   4    392001     243539      rejected  6.596142  3.280526         NaN   \n",
       "4   5    392001     171653      rejected  6.609232  3.288800         NaN   \n",
       "\n",
       "   updated_at  Trip ID          Trip Origin     Trip Destination  \\\n",
       "0         NaN   392001  6.6010417,3.2766339  6.4501069,3.3916154   \n",
       "1         NaN   392001  6.6010417,3.2766339  6.4501069,3.3916154   \n",
       "2         NaN   392001  6.6010417,3.2766339  6.4501069,3.3916154   \n",
       "3         NaN   392001  6.6010417,3.2766339  6.4501069,3.3916154   \n",
       "4         NaN   392001  6.6010417,3.2766339  6.4501069,3.3916154   \n",
       "\n",
       "       Trip Start Time        Trip End Time  Trip_Origin_x  Trip_Origin_y  \\\n",
       "0  2021-07-01 09:30:59  2021-07-01 09:34:36       6.601042       3.276634   \n",
       "1  2021-07-01 09:30:59  2021-07-01 09:34:36       6.601042       3.276634   \n",
       "2  2021-07-01 09:30:59  2021-07-01 09:34:36       6.601042       3.276634   \n",
       "3  2021-07-01 09:30:59  2021-07-01 09:34:36       6.601042       3.276634   \n",
       "4  2021-07-01 09:30:59  2021-07-01 09:34:36       6.601042       3.276634   \n",
       "\n",
       "   driver_proximity  \n",
       "0          0.431395  \n",
       "1          0.964178  \n",
       "2          0.488880  \n",
       "3          0.430022  \n",
       "4          1.007770  "
      ]
     },
     "execution_count": 43,
     "metadata": {},
     "output_type": "execute_result"
    }
   ],
   "source": [
    "sample.head()"
   ]
  },
  {
   "cell_type": "code",
   "execution_count": null,
   "metadata": {},
   "outputs": [],
   "source": [
    "import geopandas as gpd\n",
    "\n"
   ]
  },
  {
   "cell_type": "code",
   "execution_count": 33,
   "metadata": {},
   "outputs": [
    {
     "ename": "TypeError",
     "evalue": "'tuple' object is not callable",
     "output_type": "error",
     "traceback": [
      "\u001b[1;31m---------------------------------------------------------------------------\u001b[0m",
      "\u001b[1;31mTypeError\u001b[0m                                 Traceback (most recent call last)",
      "Cell \u001b[1;32mIn [33], line 6\u001b[0m\n\u001b[0;32m      3\u001b[0m \u001b[39mimport\u001b[39;00m \u001b[39mcolorcet\u001b[39;00m \u001b[39mas\u001b[39;00m \u001b[39mcc\u001b[39;00m\n\u001b[0;32m      5\u001b[0m sample \u001b[39m=\u001b[39m pd\u001b[39m.\u001b[39mread_csv(\u001b[39m'\u001b[39m\u001b[39m../data/nb.csv\u001b[39m\u001b[39m'\u001b[39m, usecols\u001b[39m=\u001b[39m[\u001b[39m'\u001b[39m\u001b[39mTrip Origin\u001b[39m\u001b[39m'\u001b[39m, \u001b[39m'\u001b[39m\u001b[39mTrip Destination\u001b[39m\u001b[39m'\u001b[39m])\n\u001b[1;32m----> 6\u001b[0m sample\u001b[39m.\u001b[39;49mshape()\n",
      "\u001b[1;31mTypeError\u001b[0m: 'tuple' object is not callable"
     ]
    }
   ],
   "source": [
    "import pandas as pd\n",
    "import datashader as ds\n",
    "import colorcet as cc\n",
    "\n",
    "sample = pd.read_csv('../data/nb.csv', usecols=['Trip Origin', 'Trip Destination'])\n",
    "sample.shape()"
   ]
  },
  {
   "cell_type": "code",
   "execution_count": 13,
   "metadata": {},
   "outputs": [],
   "source": [
    "import numpy as np\n",
    "\n",
    "sample[[\"x\", \"y\"]] = sample[\"Trip Destination\"].str.strip(r\"[()]\").str.split(\",\", expand=True).astype(float)"
   ]
  },
  {
   "cell_type": "code",
   "execution_count": 15,
   "metadata": {},
   "outputs": [
    {
     "data": {
      "image/png": "[encoded data removed]",
      "text/html": [
       "<img style=\"margin: auto; border:1px solid\" src='data:image/png;base64,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'/>"
      ],
      "text/plain": [
       "<xarray.Image (y: 600, x: 600)>\n",
       "array([[4278190080, 4278190080, 4278190080, ..., 4278190080, 4278190080,\n",
       "        4278190080],\n",
       "       [4278190080, 4278190080, 4278190080, ..., 4278190080, 4278190080,\n",
       "        4278190080],\n",
       "       [4278190080, 4278190080, 4278190080, ..., 4278190080, 4278190080,\n",
       "        4278190080],\n",
       "       ...,\n",
       "       [4278190080, 4278190080, 4278190080, ..., 4278190080, 4278190080,\n",
       "        4278190080],\n",
       "       [4278190080, 4278190080, 4278190080, ..., 4278190080, 4278190080,\n",
       "        4278190080],\n",
       "       [4278190080, 4278190080, 4278190080, ..., 4278190080, 4278190080,\n",
       "        4278190080]], dtype=uint32)\n",
       "Coordinates:\n",
       "  * x        (x) float64 1.007 1.02 1.034 1.047 1.06 ... 9.009 9.023 9.036 9.05\n",
       "  * y        (y) float64 -0.2858 -0.271 -0.2561 -0.2413 ... 8.571 8.586 8.6"
      ]
     },
     "execution_count": 15,
     "metadata": {},
     "output_type": "execute_result"
    }
   ],
   "source": [
    "agg = ds.Canvas().points(sample, 'x', 'y')\n",
    "ds.tf.set_background(ds.tf.shade(agg, cmap=cc.fire), \"black\")"
   ]
  }
 ],
 "metadata": {
  "kernelspec": {
   "display_name": "Python 3 (ipykernel)",
   "language": "python",
   "name": "python3"
  },
  "language_info": {
   "codemirror_mode": {
    "name": "ipython",
    "version": 3
   },
   "file_extension": ".py",
   "mimetype": "text/x-python",
   "name": "python",
   "nbconvert_exporter": "python",
   "pygments_lexer": "ipython3",
   "version": "3.9.12"
  },
  "vscode": {
   "interpreter": {
    "hash": "5bcbb7222b8fae23dc8390e67b948f4e22a59a548bb18327337f4342d890d63a"
   }
  }
 },
 "nbformat": 4,
 "nbformat_minor": 2
}
